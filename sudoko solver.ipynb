{
 "cells": [
  {
   "cell_type": "code",
   "execution_count": 48,
   "id": "5e72e46f",
   "metadata": {},
   "outputs": [],
   "source": [
    "%matplotlib inline\n",
    "import random\n",
    "import matplotlib.pyplot as plt\n",
    "import math\n",
    "import sys\n",
    "import time"
   ]
  },
  {
   "cell_type": "code",
   "execution_count": 49,
   "id": "6efcc496",
   "metadata": {},
   "outputs": [],
   "source": [
    "rows='ABCDEFGHI'\n",
    "cols='123456789'\n",
    "def cross(a,b):\n",
    "    return[s+t for s in a for t in b]\n"
   ]
  },
  {
   "cell_type": "code",
   "execution_count": 50,
   "id": "b920a01e",
   "metadata": {},
   "outputs": [
    {
     "name": "stdout",
     "output_type": "stream",
     "text": [
      "['A1', 'A2', 'A3', 'A4', 'A5', 'A6', 'A7', 'A8', 'A9', 'B1', 'B2', 'B3', 'B4', 'B5', 'B6', 'B7', 'B8', 'B9', 'C1', 'C2', 'C3', 'C4', 'C5', 'C6', 'C7', 'C8', 'C9', 'D1', 'D2', 'D3', 'D4', 'D5', 'D6', 'D7', 'D8', 'D9', 'E1', 'E2', 'E3', 'E4', 'E5', 'E6', 'E7', 'E8', 'E9', 'F1', 'F2', 'F3', 'F4', 'F5', 'F6', 'F7', 'F8', 'F9', 'G1', 'G2', 'G3', 'G4', 'G5', 'G6', 'G7', 'G8', 'G9', 'H1', 'H2', 'H3', 'H4', 'H5', 'H6', 'H7', 'H8', 'H9', 'I1', 'I2', 'I3', 'I4', 'I5', 'I6', 'I7', 'I8', 'I9']\n"
     ]
    }
   ],
   "source": [
    "boxes=cross(rows,cols)\n",
    "print(boxes)"
   ]
  },
  {
   "cell_type": "code",
   "execution_count": 51,
   "id": "9d195876",
   "metadata": {},
   "outputs": [],
   "source": [
    "row_units=[cross(r,cols) for r in rows]\n",
    "column_units=[cross(rows,c) for c in cols]\n",
    "square_units=[cross(rs,cs) for rs in ('ABC','DEF','GHI') for cs in ('123','456','789')]\n",
    "unitlist=row_units+column_units+square_units\n",
    "units=dict((s, [u for u in unitlist if s in u ])for s in boxes)\n",
    "peers=dict((s, set(sum(units[s],[]))-set([s])) for s in boxes)\n"
   ]
  },
  {
   "cell_type": "code",
   "execution_count": null,
   "id": "2f4a7822",
   "metadata": {},
   "outputs": [],
   "source": []
  },
  {
   "cell_type": "code",
   "execution_count": 52,
   "id": "1e7c7963",
   "metadata": {},
   "outputs": [],
   "source": [
    "def grid_values_improved(grid):\n",
    "    values=[]\n",
    "    all_digits='123456789'\n",
    "    for c in grid:\n",
    "        if c =='.':\n",
    "            values.append(all_digits)\n",
    "        elif c in all_digits:\n",
    "            values.append(c)\n",
    "    assert len(values) == 81\n",
    "    return dict(zip(boxes, values))"
   ]
  },
  {
   "cell_type": "code",
   "execution_count": 53,
   "id": "833ca4ee",
   "metadata": {},
   "outputs": [],
   "source": [
    "puzzle_dict_improved=grid_values_improved(puzzle)"
   ]
  },
  {
   "cell_type": "code",
   "execution_count": 54,
   "id": "71131f7d",
   "metadata": {},
   "outputs": [
    {
     "name": "stdout",
     "output_type": "stream",
     "text": [
      "{'A1': '123456789', 'A2': '2', 'A3': '123456789', 'A4': '8', 'A5': '6', 'A6': '123456789', 'A7': '123456789', 'A8': '123456789', 'A9': '3', 'B1': '4', 'B2': '123456789', 'B3': '123456789', 'B4': '5', 'B5': '123456789', 'B6': '1', 'B7': '7', 'B8': '2', 'B9': '8', 'C1': '5', 'C2': '123456789', 'C3': '9', 'C4': '123456789', 'C5': '123456789', 'C6': '123456789', 'C7': '123456789', 'C8': '6', 'C9': '4', 'D1': '123456789', 'D2': '6', 'D3': '8', 'D4': '9', 'D5': '7', 'D6': '123456789', 'D7': '123456789', 'D8': '123456789', 'D9': '123456789', 'E1': '123456789', 'E2': '123456789', 'E3': '123456789', 'E4': '123456789', 'E5': '123456789', 'E6': '123456789', 'E7': '123456789', 'E8': '123456789', 'E9': '1', 'F1': '123456789', 'F2': '123456789', 'F3': '7', 'F4': '123456789', 'F5': '1', 'F6': '3', 'F7': '6', 'F8': '8', 'F9': '9', 'G1': '3', 'G2': '123456789', 'G3': '123456789', 'G4': '123456789', 'G5': '2', 'G6': '9', 'G7': '8', 'G8': '4', 'G9': '123456789', 'H1': '123456789', 'H2': '123456789', 'H3': '2', 'H4': '3', 'H5': '123456789', 'H6': '6', 'H7': '123456789', 'H8': '123456789', 'H9': '7', 'I1': '123456789', 'I2': '7', 'I3': '123456789', 'I4': '1', 'I5': '5', 'I6': '123456789', 'I7': '123456789', 'I8': '123456789', 'I9': '123456789'}\n"
     ]
    }
   ],
   "source": [
    "print(puzzle_dict_improved)"
   ]
  },
  {
   "cell_type": "code",
   "execution_count": null,
   "id": "bc8e609a",
   "metadata": {},
   "outputs": [],
   "source": []
  },
  {
   "cell_type": "code",
   "execution_count": 55,
   "id": "5421441b",
   "metadata": {},
   "outputs": [],
   "source": [
    "def display(values):\n",
    "    width = 1+max(len(values[s]) for s in boxes)\n",
    "    line='+'.join(['-'*(width*3)]*3)\n",
    "    for r in rows:\n",
    "        print(''.join(values[r+c].center(width)+('|' if c in '36' else '')\n",
    "              for c in cols))\n",
    "        if r in 'CF': print(line)\n",
    "    return"
   ]
  },
  {
   "cell_type": "code",
   "execution_count": 56,
   "id": "a27c05cb",
   "metadata": {},
   "outputs": [
    {
     "name": "stdout",
     "output_type": "stream",
     "text": [
      "123456789     2     123456789 |    8         6     123456789 |123456789 123456789     3     \n",
      "    4     123456789 123456789 |    5     123456789     1     |    7         2         8     \n",
      "    5     123456789     9     |123456789 123456789 123456789 |123456789     6         4     \n",
      "------------------------------+------------------------------+------------------------------\n",
      "123456789     6         8     |    9         7     123456789 |123456789 123456789 123456789 \n",
      "123456789 123456789 123456789 |123456789 123456789 123456789 |123456789 123456789     1     \n",
      "123456789 123456789     7     |123456789     1         3     |    6         8         9     \n",
      "------------------------------+------------------------------+------------------------------\n",
      "    3     123456789 123456789 |123456789     2         9     |    8         4     123456789 \n",
      "123456789 123456789     2     |    3     123456789     6     |123456789 123456789     7     \n",
      "123456789     7     123456789 |    1         5     123456789 |123456789 123456789 123456789 \n"
     ]
    }
   ],
   "source": [
    "display(puzzle_dict_improved)"
   ]
  },
  {
   "cell_type": "code",
   "execution_count": 57,
   "id": "bc1f75f7",
   "metadata": {},
   "outputs": [],
   "source": [
    "def eliminate(values):\n",
    "    solved_values=[box for box in values.keys() if len(values[box]) == 1]\n",
    "    for box in solved_values:\n",
    "        digit = values[box] \n",
    "        for peer in peers[box]:\n",
    "            values[peer] = values[peer].replace(digit,'')\n",
    "\n",
    "    return values"
   ]
  },
  {
   "cell_type": "code",
   "execution_count": 58,
   "id": "1c627864",
   "metadata": {},
   "outputs": [],
   "source": [
    "def only_choice(values):\n",
    "    for unit in unitlist: \n",
    "        for digit in '123456789':\n",
    "            dplaces=[box for box in unit if digit in values[box]]\n",
    "            if len(dplaces) == 1:\n",
    "                values[dplaces[0]] = digit\n",
    "    return values"
   ]
  },
  {
   "cell_type": "code",
   "execution_count": 59,
   "id": "040004ca",
   "metadata": {},
   "outputs": [],
   "source": [
    "def reduced_puzzle(values):\n",
    "    stalled = False\n",
    "    while not stalled:\n",
    "        solved_values_before = len([box for box in values.keys() if len(values[box]) == 1])\n",
    "        eliminate(values)\n",
    "        only_choice(values)\n",
    "        solved_values_after = len([box for box in values.keys() if len(values[box]) == 1])\n",
    "        stalled = solved_values_before == solved_values_after\n",
    "        if len([box for box in values.keys() if len(values[box]) == 0]):\n",
    "            return False\n",
    "    return values"
   ]
  },
  {
   "cell_type": "code",
   "execution_count": 60,
   "id": "c1eb1833",
   "metadata": {},
   "outputs": [],
   "source": [
    "def search(values):\n",
    "    values_reduced=reduced_puzzle(values)\n",
    "    if not values_reduced:\n",
    "        return False\n",
    "    else:\n",
    "        values=values_reduced\n",
    "    if len([b1 for b1 in boxes if len(values[b1])==1])==81:\n",
    "        return values\n",
    "    possibility_count_list=[(len(values[b1]),b1) for b1 in boxes if len(values[b1])>1]\n",
    "    possibility_count_list.sort()\n",
    "    for (_,t_box_min) in possibility_count_list:\n",
    "        for i_digit in values[t_box_min]:\n",
    "            new_values=values.copy()\n",
    "            new_values[t_box_min]=i_digit\n",
    "            new_values=search(new_values)\n",
    "            if new_values:\n",
    "                return new_values\n",
    "    return False"
   ]
  },
  {
   "cell_type": "code",
   "execution_count": 61,
   "id": "f340e137",
   "metadata": {},
   "outputs": [],
   "source": [
    "def solve(grid):\n",
    "    values = grid_values_improved(grid)\n",
    "    return search(values)"
   ]
  },
  {
   "cell_type": "code",
   "execution_count": 68,
   "id": "6c0966d0",
   "metadata": {},
   "outputs": [
    {
     "name": "stdout",
     "output_type": "stream",
     "text": [
      "7 2 1 |8 6 4 |9 5 3 \n",
      "4 3 6 |5 9 1 |7 2 8 \n",
      "5 8 9 |2 3 7 |1 6 4 \n",
      "------+------+------\n",
      "1 6 8 |9 7 2 |4 3 5 \n",
      "9 4 3 |6 8 5 |2 7 1 \n",
      "2 5 7 |4 1 3 |6 8 9 \n",
      "------+------+------\n",
      "3 1 5 |7 2 9 |8 4 6 \n",
      "8 9 2 |3 4 6 |5 1 7 \n",
      "6 7 4 |1 5 8 |3 9 2 \n",
      "\n",
      "\n",
      "0.00399327278137207 seconds\n"
     ]
    }
   ],
   "source": [
    "if __name__ == '__main__':\n",
    "    puzzle='.2.86...34..5.17285.9....64.6897............1..7.136893...2984...23.6..7.7.15....'\n",
    "    start_time = time.time()\n",
    "    display(solve(puzzle))\n",
    "    time_taken=time.time() - start_time\n",
    "    print(\"\\n\\n{0} seconds\".format(time_taken))\n",
    "    \n",
    "    "
   ]
  },
  {
   "cell_type": "code",
   "execution_count": 67,
   "id": "a671c9d0",
   "metadata": {},
   "outputs": [
    {
     "name": "stdout",
     "output_type": "stream",
     "text": [
      "7 2 1 |8 6 4 |9 5 3 \n",
      "4 3 6 |5 9 1 |7 2 8 \n",
      "5 8 9 |2 3 7 |1 6 4 \n",
      "------+------+------\n",
      "1 6 8 |9 7 2 |4 3 5 \n",
      "9 4 3 |6 8 5 |2 7 1 \n",
      "2 5 7 |4 1 3 |6 8 9 \n",
      "------+------+------\n",
      "3 1 5 |7 2 9 |8 4 6 \n",
      "8 9 2 |3 4 6 |5 1 7 \n",
      "6 7 4 |1 5 8 |3 9 2 \n"
     ]
    }
   ],
   "source": [
    "result=search(puzzle_dict_improved)\n",
    "\n",
    "if result:\n",
    "    display(result)\n",
    "else:\n",
    "    print(\"Failed!!!\")"
   ]
  },
  {
   "cell_type": "code",
   "execution_count": null,
   "id": "d6b85086",
   "metadata": {},
   "outputs": [],
   "source": []
  },
  {
   "cell_type": "code",
   "execution_count": null,
   "id": "552eed26",
   "metadata": {},
   "outputs": [],
   "source": []
  },
  {
   "cell_type": "code",
   "execution_count": null,
   "id": "c2023bf2",
   "metadata": {},
   "outputs": [],
   "source": []
  },
  {
   "cell_type": "code",
   "execution_count": null,
   "id": "74c88dc3",
   "metadata": {},
   "outputs": [],
   "source": []
  },
  {
   "cell_type": "code",
   "execution_count": null,
   "id": "9b2d60f5",
   "metadata": {},
   "outputs": [],
   "source": []
  },
  {
   "cell_type": "code",
   "execution_count": 49,
   "id": "75cf9122",
   "metadata": {},
   "outputs": [],
   "source": []
  },
  {
   "cell_type": "code",
   "execution_count": null,
   "id": "fc425579",
   "metadata": {},
   "outputs": [],
   "source": []
  },
  {
   "cell_type": "raw",
   "id": "7a5ab35c",
   "metadata": {},
   "source": []
  },
  {
   "cell_type": "code",
   "execution_count": null,
   "id": "cc75bfec",
   "metadata": {},
   "outputs": [],
   "source": [
    "\n"
   ]
  },
  {
   "cell_type": "code",
   "execution_count": null,
   "id": "fd232649",
   "metadata": {},
   "outputs": [],
   "source": []
  }
 ],
 "metadata": {
  "kernelspec": {
   "display_name": "Python 3",
   "language": "python",
   "name": "python3"
  },
  "language_info": {
   "codemirror_mode": {
    "name": "ipython",
    "version": 3
   },
   "file_extension": ".py",
   "mimetype": "text/x-python",
   "name": "python",
   "nbconvert_exporter": "python",
   "pygments_lexer": "ipython3",
   "version": "3.8.8"
  }
 },
 "nbformat": 4,
 "nbformat_minor": 5
}
